{
 "cells": [
  {
   "cell_type": "code",
   "execution_count": 10,
   "metadata": {},
   "outputs": [],
   "source": [
    "import numpy as np\n",
    "import pandas as pd\n",
    "import matplotlib.pyplot as plt\n",
    "import seaborn as sns\n",
    "%matplotlib inline"
   ]
  },
  {
   "cell_type": "code",
   "execution_count": 11,
   "metadata": {},
   "outputs": [],
   "source": [
    "def convert_to_sec(args):\n",
    "    largs = list(args)\n",
    "    return 3600 * largs[0] + 60 * largs[1] + largs[2]"
   ]
  },
  {
   "cell_type": "code",
   "execution_count": 12,
   "metadata": {},
   "outputs": [],
   "source": [
    "def preprocess(place, date : str):\n",
    "    # 읽기\n",
    "    useful_col = [2, 11] if place == \"공입\" else [2, 12]\n",
    "    bus_name = \"5511\" if place == \"공입\" else \"관02\"\n",
    "\n",
    "    data = pd.read_csv(\"data\\\\\" + bus_name + \"_\" + date + \".csv\")\n",
    "    \n",
    "    # column 따두기 및 맨 윗줄 지우기\n",
    "    columns = data.iloc[0, slice(2, useful_col[1])]\n",
    "    columns[0] = \"환산시각(초)\"\n",
    "    columns[-1] = \"버스 환산시각(초)\"\n",
    "    data = data.drop(0, axis=0)\n",
    "\n",
    "    # 시각 빈곳 채우기\n",
    "    for i in range(3):\n",
    "        for j in range(data.shape[0]):\n",
    "            if data.iloc[j, i] is np.NaN:\n",
    "                data.iloc[j, i] = data.iloc[j - 1, i]\n",
    "\n",
    "    # 아랫쪽 빈곳 지우기\n",
    "    key = [row + 1 for row in range(data.shape[0]) if all(data.iloc[row, slice(0, useful_col[1] - 4)].isnull())]\n",
    "    data = data.drop(key, axis=0)\n",
    "    \n",
    "    # 시간 변환하기 및 column 세팅하기\n",
    "    for i in range(data.shape[0]):\n",
    "        data.iloc[i, 2] = convert_to_sec(map(int, data.iloc[i, 0:3]))\n",
    "        if all(data.iloc[i, slice(useful_col[1] - 1, useful_col[1] + 2)].notna()):\n",
    "            data.iloc[i, useful_col[1] - 1] = convert_to_sec(map(int, data.iloc[i, slice(useful_col[1] - 1, useful_col[1] + 2)]))\n",
    "    data = data.iloc[:, slice(2, useful_col[1])]\n",
    "    data.columns = columns\n",
    "    data = data.drop([\"버스 번호\"], axis=1)\n",
    "\n",
    "    # 남아 있는 사람 계산하기\n",
    "    for i in range(1, data.shape[0]):\n",
    "        tmp = 0\n",
    "        for j in range(0, useful_col[1] - 6):\n",
    "            if type(data.iloc[i, j + 1]) == type(1):\n",
    "                if j == 0: tmp += data.iloc[i, j + 1]\n",
    "                else: tmp -=data.iloc[i, j + 1]\n",
    "\n",
    "        data.iloc[i, -2] = data.iloc[i - 1, -2] + tmp\n",
    "\n",
    "    return data"
   ]
  },
  {
   "cell_type": "code",
   "execution_count": 13,
   "metadata": {},
   "outputs": [],
   "source": [
    "def add_past_data():\n",
    "    num_list = []\n",
    "    data = pd.read_csv(\"data\\\\5511_시간대_탈사람_남은사람_시간별 구분.csv\", index_col=[0])\n",
    "    for i in range(0, data.shape[1], 3):\n",
    "        for j in range(data.shape[0]):\n",
    "            if all(data.iloc[j, i:i + 3].notna()):\n",
    "                num_list.append(int(data.iloc[j, i + 1]) - int(data.iloc[j, i + 2]))\n",
    "\n",
    "    return num_list"
   ]
  },
  {
   "cell_type": "code",
   "execution_count": 14,
   "metadata": {},
   "outputs": [],
   "source": [
    "import scipy\n",
    "import scipy.stats \n",
    "\n",
    "def apply_test(data_name, data):\n",
    "    dist_names = [\"norm\", \"gamma\", \"beta\", \"expon\", \"t\", \"chi2\"]\n",
    "    dist_results = []\n",
    "    params = {}\n",
    "    for dist_name in dist_names:\n",
    "        dist = getattr(scipy.stats, dist_name)  # 분포의 특징을 가져와서\n",
    "        param = dist.fit(data) # 관측값을 이용하여 가정한 분포의 모수를 추정 \n",
    "        params[dist_name] = param # 추정한 모수를 Dictionary에 넣고\n",
    "        Stat, p = scipy.stats.kstest(data, dist_name, param) # Kolmogorov-Smirnov 검정을 합니다. \n",
    "        dist_results.append((dist_name, p)) # 결과를 list에 넣고요\n",
    "    \n",
    "    print(data_name + \"의 확률검정\")\n",
    "    print(dist_results) # 각 분포의 p value를 한 번 보고요. \n",
    "    best_dist, best_p = (max(dist_results, key=lambda item: item[1])) # 그중에 제일 p값이 큰 것을 찾고요\n",
    "    print(\"제일 비슷한 분포: %s\"%(best_dist))\n",
    "    print(\"그 분포의 p_value: %f\\n\"%(best_p))"
   ]
  },
  {
   "cell_type": "code",
   "execution_count": 15,
   "metadata": {},
   "outputs": [],
   "source": [
    "def draw(name, place, data):\n",
    "    plt.figure()\n",
    "    sns.kdeplot(data)\n",
    "    plt.savefig(\"graphs\\\\\" + place + \"_\" + name[0] + \"_\" + name[1] + \".png\")"
   ]
  },
  {
   "cell_type": "code",
   "execution_count": 16,
   "metadata": {},
   "outputs": [],
   "source": [
    "def draw_and_test(place, data):\n",
    "    buses = [\"온 사람\", \"5511\", \"5516\", \"차고지\", \"이탈\"] if place == \"공입\" else [\"온 사람\", \"관02\", \"5516\", \"5513\", \"셔틀\", \"이탈\"]\n",
    "\n",
    "    # 버스 소요 시간\n",
    "    # bus_time = []\n",
    "    # for i in range(data.shape[0]):\n",
    "    #     if data.iloc[i, -1] is not np.nan:\n",
    "    #         bus_time.append(int(data.iloc[i, -1] - data.iloc[i, 0]))\n",
    "\n",
    "    # apply_test(\"버스 소요 시간_\" + place, bus_time)\n",
    "    # draw([\"버스 소요 시간\", buses[1]], place, bus_time)\n",
    "    \n",
    "\n",
    "    # 버스(유입, 이탈 포함) 도착 주기 및 인원\n",
    "    for k in range(len(buses)):\n",
    "        arrive_period = []\n",
    "        depart_ratio = []\n",
    "        tmp = 99999\n",
    "        for i in range(data.shape[0]):\n",
    "            if data.iloc[i, :].notna()[k + 1]:\n",
    "                depart_ratio.append(float(data.iloc[i, k + 1]))\n",
    "                if tmp > int(data.iloc[i, 0]):\n",
    "                    tmp = int(data.iloc[i, 0])\n",
    "                else:\n",
    "                    for _ in range(depart_ratio[-1]):\n",
    "                        arrive_period.append(int(data.iloc[i, 0]) - tmp)\n",
    "                    tmp = int(data.iloc[i, 0])\n",
    "        \n",
    "        apply_test(\"도착 주기_\" + place + \"_\" + buses[k], arrive_period)\n",
    "        draw([\"도착 주기\", buses[k]], place, arrive_period)\n",
    "        apply_test(\"인원수 분포_\" + place + \"_\" + buses[k], depart_ratio)\n",
    "        draw([\"인원수 분포\", buses[k]], place, depart_ratio)"
   ]
  },
  {
   "cell_type": "code",
   "execution_count": 17,
   "metadata": {},
   "outputs": [],
   "source": [
    "place = \"공입\""
   ]
  },
  {
   "cell_type": "code",
   "execution_count": 18,
   "metadata": {},
   "outputs": [],
   "source": [
    "dates = [\"1122\", \"1123\", \"1128\"]\n",
    "data_dict = dict([(date, 0) for date in dates])\n",
    "for date in dates:\n",
    "    data_dict[date] = preprocess(place, date)\n",
    "    \n",
    "# draw_and_test(pd.concat(data_dict.values()))"
   ]
  }
 ],
 "metadata": {
  "kernelspec": {
   "display_name": "Python 3",
   "language": "python",
   "name": "python3"
  },
  "language_info": {
   "codemirror_mode": {
    "name": "ipython",
    "version": 3
   },
   "file_extension": ".py",
   "mimetype": "text/x-python",
   "name": "python",
   "nbconvert_exporter": "python",
   "pygments_lexer": "ipython3",
   "version": "3.10.11"
  }
 },
 "nbformat": 4,
 "nbformat_minor": 2
}
