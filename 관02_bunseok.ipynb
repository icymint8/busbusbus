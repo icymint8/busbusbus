{
 "cells": [
  {
   "cell_type": "code",
   "execution_count": 107,
   "metadata": {},
   "outputs": [],
   "source": [
    "import numpy as np\n",
    "import pandas as pd\n",
    "import matplotlib.pyplot as plt\n",
    "import seaborn as sns"
   ]
  },
  {
   "cell_type": "code",
   "execution_count": 108,
   "metadata": {},
   "outputs": [],
   "source": [
    "def convert_to_sec(args):\n",
    "    largs = list(args)\n",
    "    return 3600 * largs[0] + 60 * largs[1] + largs[2]"
   ]
  },
  {
   "cell_type": "code",
   "execution_count": 113,
   "metadata": {},
   "outputs": [],
   "source": [
    "def preprocess(date : str):\n",
    "    # 읽기\n",
    "    data = pd.read_csv(\"data\\관02_\" + date + \".csv\")\n",
    "    \n",
    "    # column 따두기 및 맨 윗줄 지우기\n",
    "    columns = data.iloc[0, 2:12]\n",
    "    columns[0] = \"환산시각(초)\"\n",
    "    columns[-1] = \"버스 환산시각(초)\"\n",
    "    data = data.drop(0, axis=0)\n",
    "\n",
    "    # 시각 빈곳 채우기\n",
    "    for i in range(3):\n",
    "        for j in range(data.shape[0]):\n",
    "            if data.iloc[j, i] is np.NaN:\n",
    "                data.iloc[j, i] = data.iloc[j - 1, i]\n",
    "\n",
    "    # 아랫쪽 빈곳 지우기\n",
    "    key = [row + 1 for row in range(data.shape[0]) if all(data.iloc[row, 0:8].isnull())]\n",
    "    data = data.drop(key, axis=0)\n",
    "    \n",
    "    # 시간 변환하기 및 column 세팅하기\n",
    "    for i in range(data.shape[0]):\n",
    "        data.iloc[i, 2] = convert_to_sec(map(int, data.iloc[i, 0:3]))\n",
    "        if sum(data.iloc[i, 11:14].notna()):\n",
    "            data.iloc[i, 11] = convert_to_sec(map(int, data.iloc[i, 11:14]))\n",
    "    data = data.iloc[:, 2:12]\n",
    "    data.columns = columns\n",
    "    data = data.drop([\"버스 오기 전\", \"버스 번호\"], axis=1)\n",
    "\n",
    "    return data"
   ]
  },
  {
   "cell_type": "code",
   "execution_count": 121,
   "metadata": {},
   "outputs": [],
   "source": [
    "def draw_two_graphs(data):\n",
    "    sns.kdeplot(data)\n",
    "    sns.histplot(data)"
   ]
  },
  {
   "cell_type": "code",
   "execution_count": 122,
   "metadata": {},
   "outputs": [],
   "source": [
    "def draw(data):\n",
    "    # 버스 소요 시간\n",
    "    bus_time = []\n",
    "    for i in range(data.shape[0]):\n",
    "        if data.iloc[i, -1] is not np.nan:\n",
    "            bus_time.append(data.iloc[i, -1] - data.iloc[i, 0])\n",
    "    draw_two_graphs(bus_time)"
   ]
  },
  {
   "cell_type": "code",
   "execution_count": 123,
   "metadata": {},
   "outputs": [
    {
     "data": {
      "image/png": "[encoded data removed]",
      "text/plain": [
       "<Figure size 640x480 with 1 Axes>"
      ]
     },
     "metadata": {},
     "output_type": "display_data"
    }
   ],
   "source": [
    "dates = [\"1122\"]\n",
    "for date in dates:\n",
    "    data = preprocess(date)\n",
    "    draw(data)"
   ]
  }
 ],
 "metadata": {
  "kernelspec": {
   "display_name": "Python 3",
   "language": "python",
   "name": "python3"
  },
  "language_info": {
   "codemirror_mode": {
    "name": "ipython",
    "version": 3
   },
   "file_extension": ".py",
   "mimetype": "text/x-python",
   "name": "python",
   "nbconvert_exporter": "python",
   "pygments_lexer": "ipython3",
   "version": "3.10.11"
  }
 },
 "nbformat": 4,
 "nbformat_minor": 2
}
