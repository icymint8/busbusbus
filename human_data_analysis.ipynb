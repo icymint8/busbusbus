{
 "cells": [
  {
   "cell_type": "code",
   "execution_count": 1,
   "metadata": {},
   "outputs": [],
   "source": [
    "import numpy as np\n",
    "import pandas as pd\n",
    "import scipy\n",
    "import scipy.stats \n",
    "import matplotlib.pyplot as plt\n",
    "import seaborn as sns"
   ]
  },
  {
   "cell_type": "code",
   "execution_count": 2,
   "metadata": {},
   "outputs": [],
   "source": [
    "def apply_test(data_name, data):\n",
    "    dist_names = [\"norm\", \"gamma\", \"beta\", \"expon\", \"t\", \"chi2\"]\n",
    "    dist_results = []\n",
    "    params = {}\n",
    "    for dist_name in dist_names:\n",
    "        dist = getattr(scipy.stats, dist_name)  # 분포의 특징을 가져와서\n",
    "        param = dist.fit(data) # 관측값을 이용하여 가정한 분포의 모수를 추정 \n",
    "        params[dist_name] = param # 추정한 모수를 Dictionary에 넣고\n",
    "        Stat, p = scipy.stats.kstest(data, dist_name, param) # Kolmogorov-Smirnov 검정을 합니다. \n",
    "        dist_results.append((dist_name, p)) # 결과를 list에 넣고요\n",
    "    \n",
    "    print(data_name + \"의 확률검정\")\n",
    "    print(dist_results) # 각 분포의 p value를 한 번 보고요. \n",
    "    best_dist, best_p = (max(dist_results, key=lambda item: item[1])) # 그중에 제일 p값이 큰 것을 찾고요\n",
    "    print(\"제일 비슷한 분포: %s\"%(best_dist))\n",
    "    print(\"그 분포의 p_value: %f\"%(best_p))\n",
    "    return best_dist, best_p, params[best_dist]"
   ]
  },
  {
   "cell_type": "code",
   "execution_count": 3,
   "metadata": {},
   "outputs": [
    {
     "name": "stdout",
     "output_type": "stream",
     "text": [
      "시간대0의 확률검정\n",
      "[('norm', 0.3907658621232146), ('gamma', 0.4201262815664272), ('beta', 0.022591313211638653), ('expon', 0.28257145422441055), ('t', 0.3908123074541989), ('chi2', 0.14885856254568364)]\n",
      "제일 비슷한 분포: gamma\n",
      "그 분포의 p_value: 0.420126\n",
      "(346.08455321848874, -3.5359204500772776, 0.012559961778019262) \n",
      "\n"
     ]
    },
    {
     "name": "stderr",
     "output_type": "stream",
     "text": [
      "C:\\Users\\rrhhk\\AppData\\Roaming\\Python\\Python310\\site-packages\\scipy\\stats\\_continuous_distns.py:709: RuntimeWarning: invalid value encountered in sqrt\n",
      "  sk = 2*(b-a)*np.sqrt(a + b + 1) / (a + b + 2) / np.sqrt(a*b)\n"
     ]
    },
    {
     "name": "stdout",
     "output_type": "stream",
     "text": [
      "시간대1의 확률검정\n",
      "[('norm', 0.2592193678990472), ('gamma', 0.20949993492847263), ('beta', 0.17463526342539915), ('expon', 0.02560608809277798), ('t', 0.023013726606057938), ('chi2', 0.24353756064566345)]\n",
      "제일 비슷한 분포: norm\n",
      "그 분포의 p_value: 0.259219\n",
      "(0.829375, 0.30718020577414235) \n",
      "\n",
      "시간대2의 확률검정\n",
      "[('norm', 0.8087004768209767), ('gamma', 0.2310153135023556), ('beta', 0.45322046741126365), ('expon', 0.7853481724688752), ('t', 0.8087726279067001), ('chi2', 0.0011108085112365824)]\n",
      "제일 비슷한 분포: t\n",
      "그 분포의 p_value: 0.808773\n",
      "(7347376.22191485, 0.9007288565261925, 0.0693921890903089) \n",
      "\n"
     ]
    },
    {
     "name": "stderr",
     "output_type": "stream",
     "text": [
      "C:\\Users\\rrhhk\\AppData\\Roaming\\Python\\Python310\\site-packages\\scipy\\stats\\_continuous_distns.py:709: RuntimeWarning: invalid value encountered in sqrt\n",
      "  sk = 2*(b-a)*np.sqrt(a + b + 1) / (a + b + 2) / np.sqrt(a*b)\n",
      "C:\\Users\\rrhhk\\AppData\\Roaming\\Python\\Python310\\site-packages\\scipy\\optimize\\_minpack_py.py:178: RuntimeWarning: The iteration is not making good progress, as measured by the \n",
      "  improvement from the last ten iterations.\n",
      "  warnings.warn(msg, RuntimeWarning)\n"
     ]
    },
    {
     "name": "stdout",
     "output_type": "stream",
     "text": [
      "시간대3의 확률검정\n",
      "[('norm', 0.4593234924784555), ('gamma', 0.11282302793745824), ('beta', 0.010891251259555278), ('expon', 0.08554501470026699), ('t', 0.03839174153626465), ('chi2', 0.029896580520425937)]\n",
      "제일 비슷한 분포: norm\n",
      "그 분포의 p_value: 0.459323\n",
      "(0.9165266106442578, 0.1360202861868794) \n",
      "\n"
     ]
    },
    {
     "name": "stderr",
     "output_type": "stream",
     "text": [
      "C:\\Users\\rrhhk\\AppData\\Roaming\\Python\\Python310\\site-packages\\scipy\\stats\\_continuous_distns.py:709: RuntimeWarning: invalid value encountered in sqrt\n",
      "  sk = 2*(b-a)*np.sqrt(a + b + 1) / (a + b + 2) / np.sqrt(a*b)\n"
     ]
    },
    {
     "name": "stdout",
     "output_type": "stream",
     "text": [
      "시간대4의 확률검정\n",
      "[('norm', 0.17412502628669047), ('gamma', 0.15176694078339947), ('beta', 0.02657376558194524), ('expon', 0.0751929011319854), ('t', 0.023016520973951904), ('chi2', 0.13491034969571847)]\n",
      "제일 비슷한 분포: norm\n",
      "그 분포의 p_value: 0.174125\n",
      "(0.8570541300804458, 0.21756447276636642) \n",
      "\n"
     ]
    },
    {
     "name": "stderr",
     "output_type": "stream",
     "text": [
      "C:\\Users\\rrhhk\\AppData\\Roaming\\Python\\Python310\\site-packages\\scipy\\stats\\_continuous_distns.py:709: RuntimeWarning: invalid value encountered in sqrt\n",
      "  sk = 2*(b-a)*np.sqrt(a + b + 1) / (a + b + 2) / np.sqrt(a*b)\n"
     ]
    },
    {
     "name": "stdout",
     "output_type": "stream",
     "text": [
      "시간대5의 확률검정\n",
      "[('norm', 0.6133713611076794), ('gamma', 0.5131945684147916), ('beta', 0.21598988744172132), ('expon', 0.02898267158268275), ('t', 0.769962836877297), ('chi2', 0.5142645575998668)]\n",
      "제일 비슷한 분포: t\n",
      "그 분포의 p_value: 0.769963\n",
      "(2.0526539731766746, 0.8496108784358498, 0.14704890882509103) \n",
      "\n"
     ]
    },
    {
     "name": "stderr",
     "output_type": "stream",
     "text": [
      "C:\\Users\\rrhhk\\AppData\\Roaming\\Python\\Python310\\site-packages\\scipy\\stats\\_continuous_distns.py:709: RuntimeWarning: invalid value encountered in sqrt\n",
      "  sk = 2*(b-a)*np.sqrt(a + b + 1) / (a + b + 2) / np.sqrt(a*b)\n"
     ]
    },
    {
     "name": "stdout",
     "output_type": "stream",
     "text": [
      "시간대6의 확률검정\n",
      "[('norm', 0.47870577614346865), ('gamma', 0.4867143826280035), ('beta', 0.023133119743192987), ('expon', 0.15515678597100835), ('t', 0.02259063720703125), ('chi2', 0.43614913382111464)]\n",
      "제일 비슷한 분포: gamma\n",
      "그 분포의 p_value: 0.486714\n",
      "(340.0123339871975, -5.23758910398157, 0.01771647941513539) \n",
      "\n",
      "시간대7의 확률검정\n",
      "[('norm', 0.13821988257816464), ('gamma', 0.11516418331776368), ('beta', 0.21557667554428495), ('expon', 0.042090031223878666), ('t', 0.5048073716888262), ('chi2', 0.1341902110751212)]\n",
      "제일 비슷한 분포: t\n",
      "그 분포의 p_value: 0.504807\n",
      "(0.8482015052710346, 0.9557393452897842, 0.043471712056047454) \n",
      "\n"
     ]
    },
    {
     "name": "stderr",
     "output_type": "stream",
     "text": [
      "C:\\Users\\rrhhk\\AppData\\Roaming\\Python\\Python310\\site-packages\\scipy\\stats\\_continuous_distns.py:709: RuntimeWarning: invalid value encountered in sqrt\n",
      "  sk = 2*(b-a)*np.sqrt(a + b + 1) / (a + b + 2) / np.sqrt(a*b)\n",
      "C:\\Users\\rrhhk\\AppData\\Roaming\\Python\\Python310\\site-packages\\scipy\\optimize\\_minpack_py.py:178: RuntimeWarning: The iteration is not making good progress, as measured by the \n",
      "  improvement from the last ten iterations.\n",
      "  warnings.warn(msg, RuntimeWarning)\n"
     ]
    },
    {
     "name": "stdout",
     "output_type": "stream",
     "text": [
      "시간대8의 확률검정\n",
      "[('norm', 0.2692418712073138), ('gamma', 0.24889916340033835), ('beta', 0.2713967448144856), ('expon', 0.17850474163672314), ('t', 0.26925946341180695), ('chi2', 0.32869780432100915)]\n",
      "제일 비슷한 분포: chi2\n",
      "그 분포의 p_value: 0.328698\n",
      "(1.2021078608113838, 0.3749999999999999, 0.4360658242873984) \n",
      "\n",
      "시간대9의 확률검정\n",
      "[('norm', 0.5463342604804022), ('gamma', 0.5446744208684839), ('beta', 0.06558985796611272), ('expon', 0.5107022215506525), ('t', 0.5463284417070857), ('chi2', 0.09280365701263693)]\n",
      "제일 비슷한 분포: norm\n",
      "그 분포의 p_value: 0.546334\n",
      "(0.6851851851851851, 0.3708330443426071) \n",
      "\n"
     ]
    },
    {
     "name": "stderr",
     "output_type": "stream",
     "text": [
      "C:\\Users\\rrhhk\\AppData\\Roaming\\Python\\Python310\\site-packages\\scipy\\stats\\_continuous_distns.py:709: RuntimeWarning: invalid value encountered in sqrt\n",
      "  sk = 2*(b-a)*np.sqrt(a + b + 1) / (a + b + 2) / np.sqrt(a*b)\n"
     ]
    },
    {
     "name": "stdout",
     "output_type": "stream",
     "text": [
      "전체 데이터의 분포의 확률검정\n",
      "[('norm', 0.00010628060966123456), ('gamma', 6.103572987971892e-05), ('beta', 1.9132937168142209e-13), ('expon', 2.1325586502703385e-10), ('t', 2.0681689426999073e-26), ('chi2', 0.00014716271171592832)]\n",
      "제일 비슷한 분포: chi2\n",
      "그 분포의 p_value: 0.000147\n",
      "('chi2', 0.00014716271171592832, (603.1234628491404, -4.133938639177112, 0.008182739037543518)) \n",
      "\n",
      "1 - 데이터의 분포의 확률검정\n",
      "[('norm', 0.00010628060966123547), ('gamma', 1.892455546366017e-13), ('beta', 1.8924555437369117e-13), ('expon', 1.8924555434230458e-13), ('t', 2.3783642780566985e-30), ('chi2', 1.8924572263174675e-13)]\n",
      "제일 비슷한 분포: norm\n",
      "그 분포의 p_value: 0.000106\n",
      "('norm', 0.00010628060966123547, (0.18677623518748923, 0.2682342731233017)) \n",
      "\n",
      "1 아닌 데이터의 분포의 확률검정\n",
      "[('norm', 0.0861820102227765), ('gamma', 0.07863367773150354), ('beta', 0.03869821274269947), ('expon', 3.2297811755126015e-05), ('t', 0.06183367656500349), ('chi2', 0.0678886757974072)]\n",
      "제일 비슷한 분포: norm\n",
      "그 분포의 p_value: 0.086182\n",
      "('norm', 0.0861820102227765, (0.6781090414853908, 0.2837359381035411)) \n",
      "\n",
      "1 - 1 아닌 데이터의 분포의 확률검정\n",
      "[('norm', 0.08618201022277794), ('gamma', 0.7535120236511208), ('beta', 0.2881472890820772), ('expon', 0.7920147043120085), ('t', 0.06183255712228486), ('chi2', 0.3067616338363136)]\n",
      "제일 비슷한 분포: expon\n",
      "그 분포의 p_value: 0.792015\n",
      "('expon', 0.7920147043120085, (0.040000000000000036, 0.2818909585146091)) \n",
      "\n"
     ]
    }
   ],
   "source": [
    "data = pd.read_excel(\"data\\\\5511_탄사람비율_시간대별 구분_최종.xlsx\")\n",
    "whole_data = []\n",
    "for i in range(10):\n",
    "    print(apply_test(data.iloc[i, 0], data.iloc[i, 1:][data.iloc[i, 1:].notna()].astype(\"float64\"))[2], '\\n')\n",
    "    whole_data.extend(data.iloc[i, 1:][data.iloc[i, 1:].notna()].astype(\"float64\"))\n",
    "\n",
    "print(apply_test(\"전체 데이터의 분포\", whole_data), '\\n')\n",
    "print(apply_test(\"1 - 데이터의 분포\", list(map(lambda x: 1 - x, whole_data))), '\\n')\n",
    "print(apply_test(\"1 아닌 데이터의 분포\", list(filter(lambda x: x < 1, whole_data))), '\\n')\n",
    "print(apply_test(\"1 - 1 아닌 데이터의 분포\", list(map(lambda x: 1 - x, list(filter(lambda x: x < 1, whole_data))))), '\\n')"
   ]
  },
  {
   "cell_type": "code",
   "execution_count": 4,
   "metadata": {},
   "outputs": [
    {
     "data": {
      "image/png": "[encoded data removed]",
      "text/plain": [
       "<Figure size 640x480 with 1 Axes>"
      ]
     },
     "metadata": {},
     "output_type": "display_data"
    }
   ],
   "source": [
    "def draw(data):\n",
    "    plt.figure()\n",
    "    # sns.kdeplot(data)\n",
    "    sns.histplot(data)\n",
    "\n",
    "draw(list(filter(lambda x: x < 1, whole_data)))"
   ]
  },
  {
   "cell_type": "code",
   "execution_count": 5,
   "metadata": {},
   "outputs": [
    {
     "name": "stdout",
     "output_type": "stream",
     "text": [
      "첫번째 버스 데이터의 분포의 확률검정\n",
      "[('norm', 0.5717941480117579), ('gamma', 0.11063458801960513), ('beta', 0.11542243879507397), ('expon', 0.11062567467636808), ('t', 0.5717900761656544), ('chi2', 0.02122781676868557)]\n",
      "제일 비슷한 분포: norm\n",
      "그 분포의 p_value: 0.571794\n",
      "('norm', 0.5717941480117579, (18146.714285714286, 34.97229223956869)) \n",
      "\n"
     ]
    }
   ],
   "source": [
    "bef_data = [[5, 3], [5, 2], [5, 2], [5, 2]]\n",
    "aft_data = [[5, 2, 8], [5, 2, 22], [5, 3, 37]]\n",
    "\n",
    "first_data = [3600 * bef[0] + 60 * bef[1] for bef in bef_data]\n",
    "first_data.extend([3600 * aft[0] + 60 * aft[1] + aft[2] for aft in aft_data])\n",
    "print(apply_test(\"첫번째 버스 데이터의 분포\", first_data), '\\n')"
   ]
  },
  {
   "cell_type": "code",
   "execution_count": 6,
   "metadata": {},
   "outputs": [
    {
     "name": "stdout",
     "output_type": "stream",
     "text": [
      "첫번째 버스 데이터의 분포의 확률검정\n",
      "[('norm', 0.5204086676309401), ('gamma', 0.5114460575219066), ('beta', 0.47656100814756697), ('expon', 0.3464298613430834), ('t', 0.5205133615262801), ('chi2', 2.4329406951970414e-06)]\n",
      "제일 비슷한 분포: t\n",
      "그 분포의 p_value: 0.520513\n",
      "('t', 0.5205133615262801, (213485839.75521147, 18566.862108442438, 268.92220358051526)) \n",
      "\n"
     ]
    }
   ],
   "source": [
    "bef_chago_data = [\n",
    "    (5, 12),   \n",
    "    (5, 5),   \n",
    "    (5, 16),   \n",
    "    (5, 12)\n",
    "    ]\n",
    "aft_chago_data = [  \n",
    "    (5, 3, 29),\n",
    "    (5, 5, 3),\n",
    "    (5, 12, 36)\n",
    "    ]\n",
    "\n",
    "first_chago_data = [3600 * bef[0] + 60 * bef[1] for bef in bef_chago_data]\n",
    "first_chago_data.extend([3600 * aft[0] + 60 * aft[1] + aft[2] for aft in aft_chago_data])\n",
    "print(apply_test(\"첫번째 버스 데이터의 분포\", first_chago_data), '\\n')"
   ]
  },
  {
   "cell_type": "code",
   "execution_count": 7,
   "metadata": {},
   "outputs": [
    {
     "name": "stdout",
     "output_type": "stream",
     "text": [
      "첫번째 버스 데이터의 분포의 확률검정\n",
      "[('norm', 0.41765068921439186), ('gamma', 0.051344872089795546), ('beta', 0.20760329973352387), ('expon', 0.9658650876125433), ('t', 0.41770141194544375), ('chi2', 0.6790214223789424)]\n",
      "제일 비슷한 분포: expon\n",
      "그 분포의 p_value: 0.965865\n",
      "('expon', 0.9658650876125433, (18120.0, 259.375)) \n",
      "\n"
     ]
    }
   ],
   "source": [
    "bef_5516_data = [\n",
    "    (5, 2),   \n",
    "    (5, 12),   \n",
    "    (5, 15),   \n",
    "    (5, 5),   \n",
    "    (5, 4) \n",
    "    ]\n",
    "aft_5516_data = [  \n",
    "    (5, 2, 55),\n",
    "    (5, 3, 49),\n",
    "    (5, 5, 51)\n",
    "    ]\n",
    "\n",
    "first_5516_data = [3600 * bef[0] + 60 * bef[1] for bef in bef_5516_data]\n",
    "first_5516_data.extend([3600 * aft[0] + 60 * aft[1] + aft[2] for aft in aft_5516_data])\n",
    "print(apply_test(\"첫번째 버스 데이터의 분포\", first_5516_data), '\\n')"
   ]
  },
  {
   "cell_type": "code",
   "execution_count": 8,
   "metadata": {},
   "outputs": [
    {
     "name": "stdout",
     "output_type": "stream",
     "text": [
      "5:00 인원수 분포의 확률검정\n",
      "[('norm', 0.8928297970474093), ('gamma', 0.7300942073303998), ('beta', 0.4082103439041622), ('expon', 0.971405244666956), ('t', 0.8928717205839718), ('chi2', 0.5079849658842668)]\n",
      "제일 비슷한 분포: expon\n",
      "그 분포의 p_value: 0.971405\n",
      "('expon', 0.971405244666956, (3.0, 10.666666666666666)) \n",
      "\n"
     ]
    }
   ],
   "source": [
    "print(apply_test(\"5:00 인원수 분포\", [17, 7, 3, 23, 5, 11, 10, 31, 16]), '\\n')"
   ]
  }
 ],
 "metadata": {
  "kernelspec": {
   "display_name": "Python 3",
   "language": "python",
   "name": "python3"
  },
  "language_info": {
   "codemirror_mode": {
    "name": "ipython",
    "version": 3
   },
   "file_extension": ".py",
   "mimetype": "text/x-python",
   "name": "python",
   "nbconvert_exporter": "python",
   "pygments_lexer": "ipython3",
   "version": "3.10.11"
  }
 },
 "nbformat": 4,
 "nbformat_minor": 2
}
